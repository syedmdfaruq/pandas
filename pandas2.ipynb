{
  "cells": [
    {
      "cell_type": "markdown",
      "metadata": {
        "id": "q-hz6pyMRsb_"
      },
      "source": [
        "###### Assessment"
      ]
    },
    {
      "cell_type": "markdown",
      "metadata": {
        "id": "w87QlhWnRscI"
      },
      "source": [
        "###### I am going to provide two .csv files , you are supposed to work on them and have to provide solutions to the following problems"
      ]
    },
    {
      "cell_type": "markdown",
      "metadata": {
        "id": "NeuomYSXRscJ"
      },
      "source": [
        "###### import necessary libraries"
      ]
    },
    {
      "cell_type": "code",
      "execution_count": null,
      "metadata": {
        "id": "uLWC0XgfRscK"
      },
      "outputs": [],
      "source": [
        "import pandas as pd\n",
        "import matplotlib.pyplot as plt\n",
        "import numpy as np\n",
        "import seaborn as sns"
      ]
    },
    {
      "cell_type": "code",
      "source": [
        "df1=pd.read_csv(\"/content/college_1.csv\")\n",
        "df2=pd.read_csv(\"/content/college_2.csv\")"
      ],
      "metadata": {
        "id": "MZeuB24m-X84"
      },
      "execution_count": null,
      "outputs": []
    },
    {
      "cell_type": "markdown",
      "metadata": {
        "id": "54FICsUnRscL"
      },
      "source": [
        "###### merge those two csv files (after getting as dataframes, get them as a single dataframe)"
      ]
    },
    {
      "cell_type": "code",
      "execution_count": null,
      "metadata": {
        "id": "TozSiIT_RscL"
      },
      "outputs": [],
      "source": [
        "df3=df1.append(df2,ignore_index=True)"
      ]
    },
    {
      "cell_type": "markdown",
      "metadata": {
        "id": "AidkPWxdRscM"
      },
      "source": [
        "###### Take each csv file , split that csv file into multiple categories (example csv files are added in the repo) \n"
      ]
    },
    {
      "cell_type": "markdown",
      "metadata": {
        "id": "0XggAWYIRscN"
      },
      "source": [
        "###### consider if the codekata score exceeds 15000 points(present week) then make a csv on those observations as Exceeded expectations.csv\n"
      ]
    },
    {
      "cell_type": "markdown",
      "metadata": {
        "id": "TSq6rFCGRscO"
      },
      "source": [
        "###### if  10000<codekata score<15000   (Reached_expectations.csv)\n",
        "\n"
      ]
    },
    {
      "cell_type": "markdown",
      "metadata": {
        "id": "P9xPbBT3RscO"
      },
      "source": [
        "###### if  7000<codekata score<10000   (Needs_Improvement.csv)\n"
      ]
    },
    {
      "cell_type": "markdown",
      "metadata": {
        "id": "s62NFi2yRscP"
      },
      "source": [
        "###### if  codekate score < 7000        (Unsatisfactory.csv)"
      ]
    },
    {
      "cell_type": "code",
      "execution_count": null,
      "metadata": {
        "id": "7fyrFHxmRscS"
      },
      "outputs": [],
      "source": [
        "df3[df3[\"CodeKata Score\"]>15000].to_csv(\"Exceeded_expectations.csv\")"
      ]
    },
    {
      "cell_type": "code",
      "execution_count": null,
      "metadata": {
        "id": "at1xeOkxRscT"
      },
      "outputs": [],
      "source": [
        "df3[(df3[\"CodeKata Score\"]>10000)&(df3[\"CodeKata Score\"]<=15000)].to_csv(\"Reached_expectations.csv\")"
      ]
    },
    {
      "cell_type": "code",
      "source": [
        "df3[(df3[\"CodeKata Score\"]>=7000)&(df3[\"CodeKata Score\"]<=10000)].to_csv(\"Needs_Improvement.csv\")"
      ],
      "metadata": {
        "id": "RWyxIDgQZP-E"
      },
      "execution_count": null,
      "outputs": []
    },
    {
      "cell_type": "code",
      "source": [
        "df3[df3[\"CodeKata Score\"]<7000].to_csv(\"Unsatisfactory.csv\")"
      ],
      "metadata": {
        "id": "tcXI4AmyZUhd"
      },
      "execution_count": null,
      "outputs": []
    },
    {
      "cell_type": "markdown",
      "metadata": {
        "id": "XKuK89LIRscT"
      },
      "source": [
        "###### Average of previous week geekions vs this week geekions (i.e Previous Geekions vs CodeKata Score)"
      ]
    },
    {
      "cell_type": "code",
      "source": [
        "df3[\"Previous Geekions\"].mean()"
      ],
      "metadata": {
        "id": "RjRJkUFRZOSX"
      },
      "execution_count": null,
      "outputs": []
    },
    {
      "cell_type": "code",
      "execution_count": null,
      "metadata": {
        "id": "CGczmy58RscU"
      },
      "outputs": [],
      "source": [
        "df3[\"CodeKata Score\"].mean()"
      ]
    },
    {
      "cell_type": "code",
      "source": [
        "(df3[\"CodeKata Score\"]+df3[\"Previous Geekions\"])/2"
      ],
      "metadata": {
        "id": "ptT1XcF7Jkk7"
      },
      "execution_count": null,
      "outputs": []
    },
    {
      "cell_type": "markdown",
      "metadata": {
        "id": "hZouNgVQRscU"
      },
      "source": [
        "###### No of students participated "
      ]
    },
    {
      "cell_type": "code",
      "execution_count": null,
      "metadata": {
        "id": "knvA4aoWRscV"
      },
      "outputs": [],
      "source": [
        "df3[\"Name\"].unique().shape[0]"
      ]
    },
    {
      "cell_type": "markdown",
      "metadata": {
        "id": "ZAcOmk6ARscV"
      },
      "source": [
        "###### #Average completion of python course or my_sql or python english or computational thinking"
      ]
    },
    {
      "cell_type": "code",
      "execution_count": null,
      "metadata": {
        "id": "uKZxAwdVRscV"
      },
      "outputs": [],
      "source": [
        "df3[\"python\"].mean(),df3[\"mysql\"].mean(),df3[\"python_en\"].mean(),df3[\"computational_thinking\"].mean()"
      ]
    },
    {
      "cell_type": "code",
      "source": [
        "len(df3[df3[\"python\"]!=-1]),len(df3[df3[\"mysql\"]!=-1]),len(df3[df3[\"python_en\"]!=-1]),len(df3[df3[\"computational_thinking\"]!=-1])"
      ],
      "metadata": {
        "id": "b1xfN3V1lcUG"
      },
      "execution_count": null,
      "outputs": []
    },
    {
      "cell_type": "markdown",
      "metadata": {
        "id": "iU1DKt4kRscW"
      },
      "source": [
        "###### rising star of the week (top 3 candidate who performed well in that particular week)"
      ]
    },
    {
      "cell_type": "code",
      "execution_count": null,
      "metadata": {
        "id": "fi7nn-d9RscX"
      },
      "outputs": [],
      "source": [
        "df3.sort_values(by=\"Rising\",ascending=False).head(3)[\"Name\"].values"
      ]
    },
    {
      "cell_type": "markdown",
      "metadata": {
        "id": "2sihDJg5RscX"
      },
      "source": [
        "###### Shining stars of the week (top 3 candidates who has highest geekions)"
      ]
    },
    {
      "cell_type": "code",
      "execution_count": null,
      "metadata": {
        "id": "Ki1BcHTvRscY"
      },
      "outputs": [],
      "source": [
        "df3.sort_values(by=\"Previous Geekions\",ascending=False).head(3)[\"Name\"].values"
      ]
    },
    {
      "cell_type": "code",
      "source": [
        "df3.sort_values(by=\"CodeKata Score\",ascending=False).head(3)[\"Name\"].values"
      ],
      "metadata": {
        "id": "pLKQnH57DJ00"
      },
      "execution_count": null,
      "outputs": []
    },
    {
      "cell_type": "markdown",
      "metadata": {
        "id": "1MAJ5hSXRscY"
      },
      "source": [
        "###### Department wise codekata performence (pie chart)"
      ]
    },
    {
      "cell_type": "code",
      "execution_count": null,
      "metadata": {
        "id": "mJjT6KhFRscY"
      },
      "outputs": [],
      "source": [
        "piedata=df3.groupby(\"Department\")[\"CodeKata Score\"].agg(sum)\n",
        "plt.pie(piedata.values,labels=piedata.index)\n",
        "plt.title(\"Total score for each department\")\n",
        "plt.show()\n",
        "piedata=df3.groupby(\"Department\")[\"CodeKata Score\"].agg(np.mean)\n",
        "plt.pie(piedata.values,labels=piedata.index)\n",
        "plt.title(\"Average score for each department\")\n",
        "plt.show()"
      ]
    },
    {
      "cell_type": "markdown",
      "metadata": {
        "id": "tibyLRxLRscZ"
      },
      "source": [
        "###### Department wise toppers (horizantal bar graph or any visual representations of your choice)"
      ]
    },
    {
      "cell_type": "code",
      "execution_count": null,
      "metadata": {
        "id": "Kf3sis-uRscZ"
      },
      "outputs": [],
      "source": [
        "max_data=df3.groupby(\"Department\")[\"CodeKata Score\"].agg(max)\n",
        "df4=pd.DataFrame()\n",
        "for i,j in zip(max_data.index,max_data.values):\n",
        "  df4=df4.append(df3[(df3[\"Department\"]==i)&(df3[\"CodeKata Score\"]==j)][[\"Name\",\"Department\",\"CodeKata Score\"]])\n",
        "df4.sort_values(by=\"CodeKata Score\",ascending=False,inplace=True)\n",
        "sns.barplot(x=df4[\"Name\"],y=df4[\"CodeKata Score\"],hue=df4[\"Department\"])\n",
        "plt.show()"
      ]
    }
  ],
  "metadata": {
    "kernelspec": {
      "display_name": "Python 3",
      "language": "python",
      "name": "python3"
    },
    "language_info": {
      "codemirror_mode": {
        "name": "ipython",
        "version": 3
      },
      "file_extension": ".py",
      "mimetype": "text/x-python",
      "name": "python",
      "nbconvert_exporter": "python",
      "pygments_lexer": "ipython3",
      "version": "3.8.3"
    },
    "colab": {
      "name": "pandas2.ipynb",
      "provenance": []
    }
  },
  "nbformat": 4,
  "nbformat_minor": 0
}